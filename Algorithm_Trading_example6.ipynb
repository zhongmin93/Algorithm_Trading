{
 "cells": [
  {
   "cell_type": "markdown",
   "metadata": {},
   "source": [
    "- 문제 6-1\n",
    "\n",
    "다음의 조건을 만족하는 Point라는 클래스를 작성하세요.\n",
    "\n",
    "- Point 클래스는 생성자를 통해 (x, y) 좌표를 입력받는다.\n",
    "- setx(x), sety(y) 메서드를 통해 x 좌표와 y 좌표를 따로 입력받을 수도 있다.\n",
    "- get() 메서드를 호출하면 튜플로 구성된 (x, y) 좌표를 반환한다.\n",
    "- move(dx, dy) 메서드는 현재 좌표를 dx, dy만큼 이동시킨다.\n",
    "- 모든 메서드는 인스턴스 메서드다."
   ]
  },
  {
   "cell_type": "code",
   "execution_count": null,
   "metadata": {},
   "outputs": [],
   "source": [
    "class Point:\n",
    "    def __init__(self,x,y):\n",
    "            self.x = x\n",
    "            self.y = y\n",
    "    def setx(self,x):\n",
    "            self.x = x\n",
    "    def sety(self,y):\n",
    "            self.y = y\n",
    "    def get(self):\n",
    "            return (self.x, self.y)\n",
    "    def move(self,dx,dy):\n",
    "            self.dx += dx\n",
    "            self.dy += dy          "
   ]
  },
  {
   "cell_type": "markdown",
   "metadata": {},
   "source": [
    "- 문제 6-2\n",
    "\n",
    "문제 6-1에서 생성한 Point 클래스에 대한 인스턴스를 생성한 후 4개의 메서드를 사용하는 코드를 작성하세요."
   ]
  },
  {
   "cell_type": "code",
   "execution_count": null,
   "metadata": {},
   "outputs": [],
   "source": [
    "a = Point(3,3)\n",
    "a.get()"
   ]
  },
  {
   "cell_type": "code",
   "execution_count": null,
   "metadata": {},
   "outputs": [],
   "source": []
  },
  {
   "cell_type": "markdown",
   "metadata": {},
   "source": [
    "- 문제 6-3\n",
    "\n",
    "아래의 Stock 클래스에 대해 2개의 인스턴스를 생성했을 때 클래스와 a와 b 인스턴스의 네임스페이스를 그려보세요.\n",
    "\n",
    ">>> class Stock:\n",
    "        market = \"kospi\"\n",
    "\n",
    ">>> a = Stock()\n",
    ">>> b = Stock()"
   ]
  },
  {
   "cell_type": "code",
   "execution_count": null,
   "metadata": {},
   "outputs": [],
   "source": []
  },
  {
   "cell_type": "markdown",
   "metadata": {},
   "source": [
    "- 문제 6-4\n",
    "\n",
    "문제 6-3의 코드에서 추가로 아래와 같은 코드를 수행했을 때 '???'로 표시된 부분의 결괏값을 적어보세요.\n",
    "\n",
    ">>> a.market\n",
    "???\n",
    ">>> b.market\n",
    "???\n",
    ">>> Stock.market\n",
    "???\n",
    ">>> a.market = \"kosdaq\"\n",
    ">>> b.market = \"nasdaq\"\n",
    ">>> a.market\n",
    "???\n",
    ">>> b.market\n",
    "???\n",
    ">>> Stock.market\n",
    "???\n",
    ">>>"
   ]
  },
  {
   "cell_type": "code",
   "execution_count": null,
   "metadata": {},
   "outputs": [],
   "source": []
  },
  {
   "cell_type": "markdown",
   "metadata": {},
   "source": [
    "- 문제 6-5\n",
    "\n",
    "문제 6-3, 문제 6-4의 코드가 모두 수행된 후의 Stock 클래스, a 인스턴스와 b 인스턴스의 네임스페이스를 그려보세요."
   ]
  },
  {
   "cell_type": "code",
   "execution_count": null,
   "metadata": {},
   "outputs": [],
   "source": []
  },
  {
   "cell_type": "code",
   "execution_count": null,
   "metadata": {},
   "outputs": [],
   "source": [
    ">>> class Point:\n",
    "        def __init__(self, x, y):\n",
    "                self.x = x\n",
    "                self.y = y\n",
    "        def setx(self, x):\n",
    "                self.x = x\n",
    "        def sety(self, y):\n",
    "                self.y = y\n",
    "        def get(self):\n",
    "                return (self.x, self.y)\n",
    "        def move(self, dx, dy):\n",
    "                self.x += dx\n",
    "                self.y += dy"
   ]
  },
  {
   "cell_type": "code",
   "execution_count": null,
   "metadata": {},
   "outputs": [],
   "source": [
    "a = Point(3,3)\n",
    "a.get()"
   ]
  },
  {
   "cell_type": "code",
   "execution_count": null,
   "metadata": {},
   "outputs": [],
   "source": []
  },
  {
   "cell_type": "code",
   "execution_count": null,
   "metadata": {},
   "outputs": [],
   "source": []
  }
 ],
 "metadata": {
  "kernelspec": {
   "display_name": "Python [conda env:root]",
   "language": "python",
   "name": "conda-root-py"
  },
  "language_info": {
   "codemirror_mode": {
    "name": "ipython",
    "version": 3
   },
   "file_extension": ".py",
   "mimetype": "text/x-python",
   "name": "python",
   "nbconvert_exporter": "python",
   "pygments_lexer": "ipython3",
   "version": "3.7.1"
  }
 },
 "nbformat": 4,
 "nbformat_minor": 2
}
